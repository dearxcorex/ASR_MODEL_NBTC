{
 "cells": [
  {
   "cell_type": "code",
   "execution_count": 2,
   "metadata": {},
   "outputs": [],
   "source": [
    "import pandas as pd \n",
    "import re \n",
    "import re\n",
    "import string"
   ]
  },
  {
   "cell_type": "code",
   "execution_count": 3,
   "metadata": {},
   "outputs": [],
   "source": [
    "\n",
    "df = pd.read_csv('data/comments.csv', index_col=0)"
   ]
  },
  {
   "cell_type": "code",
   "execution_count": 4,
   "metadata": {},
   "outputs": [
    {
     "data": {
      "text/html": [
       "<div>\n",
       "<style scoped>\n",
       "    .dataframe tbody tr th:only-of-type {\n",
       "        vertical-align: middle;\n",
       "    }\n",
       "\n",
       "    .dataframe tbody tr th {\n",
       "        vertical-align: top;\n",
       "    }\n",
       "\n",
       "    .dataframe thead th {\n",
       "        text-align: right;\n",
       "    }\n",
       "</style>\n",
       "<table border=\"1\" class=\"dataframe\">\n",
       "  <thead>\n",
       "    <tr style=\"text-align: right;\">\n",
       "      <th></th>\n",
       "      <th>comments</th>\n",
       "    </tr>\n",
       "  </thead>\n",
       "  <tbody>\n",
       "    <tr>\n",
       "      <th>0</th>\n",
       "      <td>เภสัชคงจะคิดหลายชั้นมากเกินไป</td>\n",
       "    </tr>\n",
       "    <tr>\n",
       "      <th>1</th>\n",
       "      <td>แล้วทำไมคุณไม่ถาม ว่า\\nแบบนี้ มีซองสีส้มมั๊ย</td>\n",
       "    </tr>\n",
       "    <tr>\n",
       "      <th>2</th>\n",
       "      <td>มีที่อยากได้อยู่ในใจ ทำไมไม่ถาม\\n\\nเภสัชกร ไม่...</td>\n",
       "    </tr>\n",
       "    <tr>\n",
       "      <th>3</th>\n",
       "      <td>พี่ไม่ทราบบริบทอื่นๆในขณะสนทนา...แต่มาตอบให้สบ...</td>\n",
       "    </tr>\n",
       "    <tr>\n",
       "      <th>4</th>\n",
       "      <td>ผมเป็นเภสัช เท่าที่อ่านกระทู้ดูผมเข้าใจ ถ้าถาม...</td>\n",
       "    </tr>\n",
       "  </tbody>\n",
       "</table>\n",
       "</div>"
      ],
      "text/plain": [
       "                                            comments\n",
       "0                      เภสัชคงจะคิดหลายชั้นมากเกินไป\n",
       "1       แล้วทำไมคุณไม่ถาม ว่า\\nแบบนี้ มีซองสีส้มมั๊ย\n",
       "2  มีที่อยากได้อยู่ในใจ ทำไมไม่ถาม\\n\\nเภสัชกร ไม่...\n",
       "3  พี่ไม่ทราบบริบทอื่นๆในขณะสนทนา...แต่มาตอบให้สบ...\n",
       "4  ผมเป็นเภสัช เท่าที่อ่านกระทู้ดูผมเข้าใจ ถ้าถาม..."
      ]
     },
     "execution_count": 4,
     "metadata": {},
     "output_type": "execute_result"
    }
   ],
   "source": [
    "df.head()"
   ]
  },
  {
   "cell_type": "markdown",
   "metadata": {},
   "source": [
    "### clean text "
   ]
  },
  {
   "cell_type": "code",
   "execution_count": 5,
   "metadata": {},
   "outputs": [],
   "source": [
    "def clean_msg(msg):\n",
    "    \n",
    "    msg = re.sub(\"'\", \"\", msg)\n",
    "    msg = re.sub(r'<.*?>', '', msg)\n",
    "    msg = re.sub(\"@[A-Za-z0-9_]+\",\"\", msg)\n",
    "    msg = re.sub(\"#[A-Za-z0-9_]+\",\"\", msg)\n",
    "    msg = re.sub(r'https?://\\S+|www\\.\\S+', '', msg)\n",
    "    for c in string.punctuation:\n",
    "        msg = re.sub(r'\\{}'.format(c), ' ', msg)\n",
    "    msg = ' '.join(msg.split())\n",
    "    msg = re.sub(r'\\s+','',msg)\n",
    "\n",
    "\n",
    "    #remove space \n",
    "    \n",
    "    \n",
    "    return msg"
   ]
  },
  {
   "cell_type": "code",
   "execution_count": 6,
   "metadata": {},
   "outputs": [],
   "source": [
    "result = df['comments'].apply(clean_msg)"
   ]
  },
  {
   "cell_type": "code",
   "execution_count": 7,
   "metadata": {},
   "outputs": [
    {
     "data": {
      "text/plain": [
       "0                        เภสัชคงจะคิดหลายชั้นมากเกินไป\n",
       "1             แล้วทำไมคุณไม่ถามว่าแบบนี้มีซองสีส้มมั๊ย\n",
       "2    มีที่อยากได้อยู่ในใจทำไมไม่ถามเภสัชกรไม่ได้ลงว...\n",
       "3    พี่ไม่ทราบบริบทอื่นๆในขณะสนทนาแต่มาตอบให้สบายใ...\n",
       "4    ผมเป็นเภสัชเท่าที่อ่านกระทู้ดูผมเข้าใจถ้าถามผม...\n",
       "Name: comments, dtype: object"
      ]
     },
     "execution_count": 7,
     "metadata": {},
     "output_type": "execute_result"
    }
   ],
   "source": [
    "result.head()"
   ]
  },
  {
   "cell_type": "code",
   "execution_count": 9,
   "metadata": {},
   "outputs": [
    {
     "data": {
      "text/plain": [
       "array(['เภสัชคงจะคิดหลายชั้นมากเกินไป',\n",
       "       'แล้วทำไมคุณไม่ถามว่าแบบนี้มีซองสีส้มมั๊ย',\n",
       "       'มีที่อยากได้อยู่ในใจทำไมไม่ถามเภสัชกรไม่ได้ลงวิชาตาทิพย์101หรือฌาณหยั่งรู้407',\n",
       "       ...,\n",
       "       'ถ้าเราปวดข้างหัวเหมือนไฟช้อตจี้ดๆแล้วเป็นๆหายๆอยู่ข้างเดียวคืออาการอะไรค่ะ',\n",
       "       'ลองดูของฟาร์มาเทคราคาถูกกว่าพอสมควร',\n",
       "       'แนะนำให้ปรึกษากับทางคุณหมอที่เชี่ยวชาญนะคะพ่อเราปลายประสาทอักเสบคุณหมอก็ให้วิตามินกลับมากินหรือถ้าเรามีข้อสงสัยจะต้องกินอาหารเสริมตัวไหนเพิ่มก็ควรจะปรึกษาหมอที่ดูแลก่อนค่ะเราให้พ่อทานยาคุณหมอร่วมกันกับอาหารเสริมCQMINค่ะฟื้นฟูระบบภูมิคุ้มกันซ่อมแซมระดับเซลล์ก่อนจะเอาให้พ่อทานเราก็หาข้อมูลแล้วก็ปรึกษากับทางคุณหมอเลยไว้ใจให้พ่อทานค่ะถ้าจขกทสนใจยังไงก็ลองหาข้อมูลก่อนนะคะ'],\n",
       "      dtype=object)"
      ]
     },
     "execution_count": 9,
     "metadata": {},
     "output_type": "execute_result"
    }
   ],
   "source": [
    "result.values"
   ]
  },
  {
   "cell_type": "code",
   "execution_count": 103,
   "metadata": {},
   "outputs": [],
   "source": [
    "#check length \n",
    "result['text_length'] = result.apply(lambda x: len(x))"
   ]
  },
  {
   "cell_type": "code",
   "execution_count": 108,
   "metadata": {},
   "outputs": [
    {
     "data": {
      "text/plain": [
       "comments\n",
       "49      16\n",
       "35      12\n",
       "38      10\n",
       "39       9\n",
       "92       9\n",
       "        ..\n",
       "284      1\n",
       "1001     1\n",
       "520      1\n",
       "1225     1\n",
       "361      1\n",
       "Name: count, Length: 362, dtype: int64"
      ]
     },
     "execution_count": 108,
     "metadata": {},
     "output_type": "execute_result"
    }
   ],
   "source": [
    "result['text_length'].value_counts()"
   ]
  },
  {
   "cell_type": "code",
   "execution_count": 114,
   "metadata": {},
   "outputs": [
    {
     "name": "stderr",
     "output_type": "stream",
     "text": [
      "/var/folders/79/xvp0r4gn09bd1hlz0lt16db80000gn/T/ipykernel_2207/1729562811.py:1: FutureWarning: Series.fillna with 'method' is deprecated and will raise in a future version. Use obj.ffill() or obj.bfill() instead.\n",
      "  result = result.fillna(method='ffill')  # Forward-fill missing values\n"
     ]
    },
    {
     "ename": "IndexingError",
     "evalue": "Unalignable boolean Series provided as indexer (index of the boolean Series and of the indexed object do not match).",
     "output_type": "error",
     "traceback": [
      "\u001b[0;31m---------------------------------------------------------------------------\u001b[0m",
      "\u001b[0;31mIndexingError\u001b[0m                             Traceback (most recent call last)",
      "Cell \u001b[0;32mIn[114], line 2\u001b[0m\n\u001b[1;32m      1\u001b[0m result \u001b[38;5;241m=\u001b[39m result\u001b[38;5;241m.\u001b[39mfillna(method\u001b[38;5;241m=\u001b[39m\u001b[38;5;124m'\u001b[39m\u001b[38;5;124mffill\u001b[39m\u001b[38;5;124m'\u001b[39m)  \u001b[38;5;66;03m# Forward-fill missing values\u001b[39;00m\n\u001b[0;32m----> 2\u001b[0m filtered_result \u001b[38;5;241m=\u001b[39m \u001b[43mresult\u001b[49m\u001b[43m[\u001b[49m\u001b[43mresult\u001b[49m\u001b[43m[\u001b[49m\u001b[38;5;124;43m'\u001b[39;49m\u001b[38;5;124;43mtext_length\u001b[39;49m\u001b[38;5;124;43m'\u001b[39;49m\u001b[43m]\u001b[49m\u001b[43m \u001b[49m\u001b[38;5;241;43m<\u001b[39;49m\u001b[43m \u001b[49m\u001b[38;5;241;43m100\u001b[39;49m\u001b[43m]\u001b[49m\n",
      "File \u001b[0;32m~/miniconda3/envs/speech_to_text/lib/python3.9/site-packages/pandas/core/series.py:1068\u001b[0m, in \u001b[0;36mSeries.__getitem__\u001b[0;34m(self, key)\u001b[0m\n\u001b[1;32m   1065\u001b[0m     \u001b[38;5;28;01mreturn\u001b[39;00m \u001b[38;5;28mself\u001b[39m\u001b[38;5;241m.\u001b[39m_getitem_slice(key)\n\u001b[1;32m   1067\u001b[0m \u001b[38;5;28;01mif\u001b[39;00m com\u001b[38;5;241m.\u001b[39mis_bool_indexer(key):\n\u001b[0;32m-> 1068\u001b[0m     key \u001b[38;5;241m=\u001b[39m \u001b[43mcheck_bool_indexer\u001b[49m\u001b[43m(\u001b[49m\u001b[38;5;28;43mself\u001b[39;49m\u001b[38;5;241;43m.\u001b[39;49m\u001b[43mindex\u001b[49m\u001b[43m,\u001b[49m\u001b[43m \u001b[49m\u001b[43mkey\u001b[49m\u001b[43m)\u001b[49m\n\u001b[1;32m   1069\u001b[0m     key \u001b[38;5;241m=\u001b[39m np\u001b[38;5;241m.\u001b[39masarray(key, dtype\u001b[38;5;241m=\u001b[39m\u001b[38;5;28mbool\u001b[39m)\n\u001b[1;32m   1070\u001b[0m     \u001b[38;5;28;01mreturn\u001b[39;00m \u001b[38;5;28mself\u001b[39m\u001b[38;5;241m.\u001b[39m_get_rows_with_mask(key)\n",
      "File \u001b[0;32m~/miniconda3/envs/speech_to_text/lib/python3.9/site-packages/pandas/core/indexing.py:2575\u001b[0m, in \u001b[0;36mcheck_bool_indexer\u001b[0;34m(index, key)\u001b[0m\n\u001b[1;32m   2573\u001b[0m indexer \u001b[38;5;241m=\u001b[39m result\u001b[38;5;241m.\u001b[39mindex\u001b[38;5;241m.\u001b[39mget_indexer_for(index)\n\u001b[1;32m   2574\u001b[0m \u001b[38;5;28;01mif\u001b[39;00m \u001b[38;5;241m-\u001b[39m\u001b[38;5;241m1\u001b[39m \u001b[38;5;129;01min\u001b[39;00m indexer:\n\u001b[0;32m-> 2575\u001b[0m     \u001b[38;5;28;01mraise\u001b[39;00m IndexingError(\n\u001b[1;32m   2576\u001b[0m         \u001b[38;5;124m\"\u001b[39m\u001b[38;5;124mUnalignable boolean Series provided as \u001b[39m\u001b[38;5;124m\"\u001b[39m\n\u001b[1;32m   2577\u001b[0m         \u001b[38;5;124m\"\u001b[39m\u001b[38;5;124mindexer (index of the boolean Series and of \u001b[39m\u001b[38;5;124m\"\u001b[39m\n\u001b[1;32m   2578\u001b[0m         \u001b[38;5;124m\"\u001b[39m\u001b[38;5;124mthe indexed object do not match).\u001b[39m\u001b[38;5;124m\"\u001b[39m\n\u001b[1;32m   2579\u001b[0m     )\n\u001b[1;32m   2581\u001b[0m result \u001b[38;5;241m=\u001b[39m result\u001b[38;5;241m.\u001b[39mtake(indexer)\n\u001b[1;32m   2583\u001b[0m \u001b[38;5;66;03m# fall through for boolean\u001b[39;00m\n",
      "\u001b[0;31mIndexingError\u001b[0m: Unalignable boolean Series provided as indexer (index of the boolean Series and of the indexed object do not match)."
     ]
    }
   ],
   "source": [
    "\n"
   ]
  },
  {
   "cell_type": "code",
   "execution_count": null,
   "metadata": {},
   "outputs": [],
   "source": []
  }
 ],
 "metadata": {
  "kernelspec": {
   "display_name": "speech_to_text",
   "language": "python",
   "name": "python3"
  },
  "language_info": {
   "codemirror_mode": {
    "name": "ipython",
    "version": 3
   },
   "file_extension": ".py",
   "mimetype": "text/x-python",
   "name": "python",
   "nbconvert_exporter": "python",
   "pygments_lexer": "ipython3",
   "version": "3.9.18"
  }
 },
 "nbformat": 4,
 "nbformat_minor": 2
}

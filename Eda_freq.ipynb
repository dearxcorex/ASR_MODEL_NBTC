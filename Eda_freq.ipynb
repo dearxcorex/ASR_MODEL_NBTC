{
 "cells": [
  {
   "cell_type": "code",
   "execution_count": 1,
   "metadata": {},
   "outputs": [],
   "source": [
    "import pandas as pd "
   ]
  },
  {
   "cell_type": "code",
   "execution_count": 2,
   "metadata": {},
   "outputs": [],
   "source": [
    "df = pd.read_csv(\"data/tod_imt.csv\",skiprows=[0,1,4,5],sep=\"^\")"
   ]
  },
  {
   "cell_type": "code",
   "execution_count": 3,
   "metadata": {},
   "outputs": [
    {
     "data": {
      "text/html": [
       "<div>\n",
       "<style scoped>\n",
       "    .dataframe tbody tr th:only-of-type {\n",
       "        vertical-align: middle;\n",
       "    }\n",
       "\n",
       "    .dataframe tbody tr th {\n",
       "        vertical-align: top;\n",
       "    }\n",
       "\n",
       "    .dataframe thead th {\n",
       "        text-align: right;\n",
       "    }\n",
       "</style>\n",
       "<table border=\"1\" class=\"dataframe\">\n",
       "  <thead>\n",
       "    <tr style=\"text-align: right;\">\n",
       "      <th></th>\n",
       "      <th>28238</th>\n",
       "      <th>1 hours</th>\n",
       "      <th>DESKTOP-5NOI69V</th>\n",
       "      <th>15</th>\n",
       "      <th>29-08-2023 09:43:42 AM</th>\n",
       "      <th>29-08-2023 02:43:55 PM</th>\n",
       "      <th>Noise Riding 30 dB</th>\n",
       "      <th>Fixed: 5 hours</th>\n",
       "      <th>Chaiyaphum</th>\n",
       "      <th>No</th>\n",
       "      <th>15.788741</th>\n",
       "      <th>102.028173</th>\n",
       "      <th>Vertical Ref</th>\n",
       "      <th>Vertical</th>\n",
       "    </tr>\n",
       "  </thead>\n",
       "  <tbody>\n",
       "    <tr>\n",
       "      <th>0</th>\n",
       "      <td>Channel No.</td>\n",
       "      <td>Frequency (MHz)</td>\n",
       "      <td>Time of Day</td>\n",
       "      <td>Occupancy (%)</td>\n",
       "      <td>Field Strength (dBuV/m)</td>\n",
       "      <td>NaN</td>\n",
       "      <td>NaN</td>\n",
       "      <td>NaN</td>\n",
       "      <td>NaN</td>\n",
       "      <td>NaN</td>\n",
       "      <td>NaN</td>\n",
       "      <td>NaN</td>\n",
       "      <td>NaN</td>\n",
       "      <td>NaN</td>\n",
       "    </tr>\n",
       "    <tr>\n",
       "      <th>1</th>\n",
       "      <td>1</td>\n",
       "      <td>756.000000</td>\n",
       "      <td>10:43:42 AM</td>\n",
       "      <td>0</td>\n",
       "      <td>---</td>\n",
       "      <td>NaN</td>\n",
       "      <td>NaN</td>\n",
       "      <td>NaN</td>\n",
       "      <td>NaN</td>\n",
       "      <td>NaN</td>\n",
       "      <td>NaN</td>\n",
       "      <td>NaN</td>\n",
       "      <td>NaN</td>\n",
       "      <td>NaN</td>\n",
       "    </tr>\n",
       "    <tr>\n",
       "      <th>2</th>\n",
       "      <td>1</td>\n",
       "      <td>756.000000</td>\n",
       "      <td>11:43:42 AM</td>\n",
       "      <td>0</td>\n",
       "      <td>---</td>\n",
       "      <td>NaN</td>\n",
       "      <td>NaN</td>\n",
       "      <td>NaN</td>\n",
       "      <td>NaN</td>\n",
       "      <td>NaN</td>\n",
       "      <td>NaN</td>\n",
       "      <td>NaN</td>\n",
       "      <td>NaN</td>\n",
       "      <td>NaN</td>\n",
       "    </tr>\n",
       "    <tr>\n",
       "      <th>3</th>\n",
       "      <td>1</td>\n",
       "      <td>756.000000</td>\n",
       "      <td>12:43:42 PM</td>\n",
       "      <td>0</td>\n",
       "      <td>---</td>\n",
       "      <td>NaN</td>\n",
       "      <td>NaN</td>\n",
       "      <td>NaN</td>\n",
       "      <td>NaN</td>\n",
       "      <td>NaN</td>\n",
       "      <td>NaN</td>\n",
       "      <td>NaN</td>\n",
       "      <td>NaN</td>\n",
       "      <td>NaN</td>\n",
       "    </tr>\n",
       "    <tr>\n",
       "      <th>4</th>\n",
       "      <td>1</td>\n",
       "      <td>756.000000</td>\n",
       "      <td>01:43:42 PM</td>\n",
       "      <td>0</td>\n",
       "      <td>---</td>\n",
       "      <td>NaN</td>\n",
       "      <td>NaN</td>\n",
       "      <td>NaN</td>\n",
       "      <td>NaN</td>\n",
       "      <td>NaN</td>\n",
       "      <td>NaN</td>\n",
       "      <td>NaN</td>\n",
       "      <td>NaN</td>\n",
       "      <td>NaN</td>\n",
       "    </tr>\n",
       "  </tbody>\n",
       "</table>\n",
       "</div>"
      ],
      "text/plain": [
       "         28238          1 hours DESKTOP-5NOI69V             15  \\\n",
       "0  Channel No.  Frequency (MHz)     Time of Day  Occupancy (%)   \n",
       "1            1       756.000000     10:43:42 AM              0   \n",
       "2            1       756.000000     11:43:42 AM              0   \n",
       "3            1       756.000000     12:43:42 PM              0   \n",
       "4            1       756.000000     01:43:42 PM              0   \n",
       "\n",
       "    29-08-2023 09:43:42 AM  29-08-2023 02:43:55 PM  Noise Riding 30 dB  \\\n",
       "0  Field Strength (dBuV/m)                     NaN                 NaN   \n",
       "1                      ---                     NaN                 NaN   \n",
       "2                      ---                     NaN                 NaN   \n",
       "3                      ---                     NaN                 NaN   \n",
       "4                      ---                     NaN                 NaN   \n",
       "\n",
       "   Fixed: 5 hours  Chaiyaphum  No  15.788741  102.028173  Vertical Ref  \\\n",
       "0             NaN         NaN NaN        NaN         NaN           NaN   \n",
       "1             NaN         NaN NaN        NaN         NaN           NaN   \n",
       "2             NaN         NaN NaN        NaN         NaN           NaN   \n",
       "3             NaN         NaN NaN        NaN         NaN           NaN   \n",
       "4             NaN         NaN NaN        NaN         NaN           NaN   \n",
       "\n",
       "   Vertical  \n",
       "0       NaN  \n",
       "1       NaN  \n",
       "2       NaN  \n",
       "3       NaN  \n",
       "4       NaN  "
      ]
     },
     "execution_count": 3,
     "metadata": {},
     "output_type": "execute_result"
    }
   ],
   "source": [
    "df.head()"
   ]
  },
  {
   "cell_type": "markdown",
   "metadata": {},
   "source": []
  },
  {
   "cell_type": "code",
   "execution_count": 4,
   "metadata": {},
   "outputs": [],
   "source": [
    "#drop columns\n",
    "df.drop(['28238','29-08-2023 02:43:55 PM','Noise Riding 30 dB','Fixed: 5 hours','Chaiyaphum','No','15.788741','102.028173','Vertical Ref','Vertical'],axis=1,inplace=True)"
   ]
  },
  {
   "cell_type": "code",
   "execution_count": 5,
   "metadata": {},
   "outputs": [
    {
     "data": {
      "text/html": [
       "<div>\n",
       "<style scoped>\n",
       "    .dataframe tbody tr th:only-of-type {\n",
       "        vertical-align: middle;\n",
       "    }\n",
       "\n",
       "    .dataframe tbody tr th {\n",
       "        vertical-align: top;\n",
       "    }\n",
       "\n",
       "    .dataframe thead th {\n",
       "        text-align: right;\n",
       "    }\n",
       "</style>\n",
       "<table border=\"1\" class=\"dataframe\">\n",
       "  <thead>\n",
       "    <tr style=\"text-align: right;\">\n",
       "      <th></th>\n",
       "      <th>1 hours</th>\n",
       "      <th>DESKTOP-5NOI69V</th>\n",
       "      <th>15</th>\n",
       "      <th>29-08-2023 09:43:42 AM</th>\n",
       "    </tr>\n",
       "  </thead>\n",
       "  <tbody>\n",
       "    <tr>\n",
       "      <th>0</th>\n",
       "      <td>Frequency (MHz)</td>\n",
       "      <td>Time of Day</td>\n",
       "      <td>Occupancy (%)</td>\n",
       "      <td>Field Strength (dBuV/m)</td>\n",
       "    </tr>\n",
       "    <tr>\n",
       "      <th>1</th>\n",
       "      <td>756.000000</td>\n",
       "      <td>10:43:42 AM</td>\n",
       "      <td>0</td>\n",
       "      <td>---</td>\n",
       "    </tr>\n",
       "    <tr>\n",
       "      <th>2</th>\n",
       "      <td>756.000000</td>\n",
       "      <td>11:43:42 AM</td>\n",
       "      <td>0</td>\n",
       "      <td>---</td>\n",
       "    </tr>\n",
       "    <tr>\n",
       "      <th>3</th>\n",
       "      <td>756.000000</td>\n",
       "      <td>12:43:42 PM</td>\n",
       "      <td>0</td>\n",
       "      <td>---</td>\n",
       "    </tr>\n",
       "    <tr>\n",
       "      <th>4</th>\n",
       "      <td>756.000000</td>\n",
       "      <td>01:43:42 PM</td>\n",
       "      <td>0</td>\n",
       "      <td>---</td>\n",
       "    </tr>\n",
       "  </tbody>\n",
       "</table>\n",
       "</div>"
      ],
      "text/plain": [
       "           1 hours DESKTOP-5NOI69V             15   29-08-2023 09:43:42 AM\n",
       "0  Frequency (MHz)     Time of Day  Occupancy (%)  Field Strength (dBuV/m)\n",
       "1       756.000000     10:43:42 AM              0                      ---\n",
       "2       756.000000     11:43:42 AM              0                      ---\n",
       "3       756.000000     12:43:42 PM              0                      ---\n",
       "4       756.000000     01:43:42 PM              0                      ---"
      ]
     },
     "execution_count": 5,
     "metadata": {},
     "output_type": "execute_result"
    }
   ],
   "source": [
    "df.head()"
   ]
  },
  {
   "cell_type": "code",
   "execution_count": 6,
   "metadata": {},
   "outputs": [],
   "source": [
    "# Rename columns\n",
    "new_df = df.rename(columns={\n",
    "    '1 hours': 'Frequency (MHz)',\n",
    "    'DESKTOP-5NOI69V': 'Time of Day',\n",
    "    '15': 'Occupancy (%)',\n",
    "    '29-08-2023 09:43:42 AM': 'Field Strength (dBuV/m)'\n",
    "})\n"
   ]
  },
  {
   "cell_type": "code",
   "execution_count": 7,
   "metadata": {},
   "outputs": [],
   "source": [
    "#remove row \n",
    "new_df.drop([0],axis=0,inplace=True)"
   ]
  },
  {
   "cell_type": "code",
   "execution_count": 8,
   "metadata": {},
   "outputs": [
    {
     "data": {
      "text/html": [
       "<div>\n",
       "<style scoped>\n",
       "    .dataframe tbody tr th:only-of-type {\n",
       "        vertical-align: middle;\n",
       "    }\n",
       "\n",
       "    .dataframe tbody tr th {\n",
       "        vertical-align: top;\n",
       "    }\n",
       "\n",
       "    .dataframe thead th {\n",
       "        text-align: right;\n",
       "    }\n",
       "</style>\n",
       "<table border=\"1\" class=\"dataframe\">\n",
       "  <thead>\n",
       "    <tr style=\"text-align: right;\">\n",
       "      <th></th>\n",
       "      <th>Frequency (MHz)</th>\n",
       "      <th>Time of Day</th>\n",
       "      <th>Occupancy (%)</th>\n",
       "      <th>Field Strength (dBuV/m)</th>\n",
       "    </tr>\n",
       "  </thead>\n",
       "  <tbody>\n",
       "    <tr>\n",
       "      <th>1</th>\n",
       "      <td>756.000000</td>\n",
       "      <td>10:43:42 AM</td>\n",
       "      <td>0</td>\n",
       "      <td>---</td>\n",
       "    </tr>\n",
       "    <tr>\n",
       "      <th>2</th>\n",
       "      <td>756.000000</td>\n",
       "      <td>11:43:42 AM</td>\n",
       "      <td>0</td>\n",
       "      <td>---</td>\n",
       "    </tr>\n",
       "    <tr>\n",
       "      <th>3</th>\n",
       "      <td>756.000000</td>\n",
       "      <td>12:43:42 PM</td>\n",
       "      <td>0</td>\n",
       "      <td>---</td>\n",
       "    </tr>\n",
       "    <tr>\n",
       "      <th>4</th>\n",
       "      <td>756.000000</td>\n",
       "      <td>01:43:42 PM</td>\n",
       "      <td>0</td>\n",
       "      <td>---</td>\n",
       "    </tr>\n",
       "    <tr>\n",
       "      <th>5</th>\n",
       "      <td>756.000000</td>\n",
       "      <td>02:43:42 PM</td>\n",
       "      <td>0</td>\n",
       "      <td>---</td>\n",
       "    </tr>\n",
       "  </tbody>\n",
       "</table>\n",
       "</div>"
      ],
      "text/plain": [
       "  Frequency (MHz)  Time of Day Occupancy (%) Field Strength (dBuV/m)\n",
       "1      756.000000  10:43:42 AM             0                     ---\n",
       "2      756.000000  11:43:42 AM             0                     ---\n",
       "3      756.000000  12:43:42 PM             0                     ---\n",
       "4      756.000000  01:43:42 PM             0                     ---\n",
       "5      756.000000  02:43:42 PM             0                     ---"
      ]
     },
     "execution_count": 8,
     "metadata": {},
     "output_type": "execute_result"
    }
   ],
   "source": [
    "new_df.head()"
   ]
  },
  {
   "cell_type": "code",
   "execution_count": 9,
   "metadata": {},
   "outputs": [
    {
     "name": "stderr",
     "output_type": "stream",
     "text": [
      "/var/folders/79/xvp0r4gn09bd1hlz0lt16db80000gn/T/ipykernel_2974/319186960.py:1: UserWarning: Could not infer format, so each element will be parsed individually, falling back to `dateutil`. To ensure parsing is consistent and as-expected, please specify a format.\n",
      "  new_df['Time of Day']=pd.to_datetime(new_df['Time of Day']).dt.time\n"
     ]
    }
   ],
   "source": [
    "new_df['Time of Day']=pd.to_datetime(new_df['Time of Day']).dt.time \n",
    "new_df['Time of Day'] = new_df['Time of Day'].apply(lambda x: x.hour * 60 + x.minute)"
   ]
  },
  {
   "cell_type": "code",
   "execution_count": 10,
   "metadata": {},
   "outputs": [
    {
     "data": {
      "text/html": [
       "<div>\n",
       "<style scoped>\n",
       "    .dataframe tbody tr th:only-of-type {\n",
       "        vertical-align: middle;\n",
       "    }\n",
       "\n",
       "    .dataframe tbody tr th {\n",
       "        vertical-align: top;\n",
       "    }\n",
       "\n",
       "    .dataframe thead th {\n",
       "        text-align: right;\n",
       "    }\n",
       "</style>\n",
       "<table border=\"1\" class=\"dataframe\">\n",
       "  <thead>\n",
       "    <tr style=\"text-align: right;\">\n",
       "      <th></th>\n",
       "      <th>Frequency (MHz)</th>\n",
       "      <th>Time of Day</th>\n",
       "      <th>Occupancy (%)</th>\n",
       "      <th>Field Strength (dBuV/m)</th>\n",
       "    </tr>\n",
       "  </thead>\n",
       "  <tbody>\n",
       "    <tr>\n",
       "      <th>1</th>\n",
       "      <td>756.000000</td>\n",
       "      <td>643</td>\n",
       "      <td>0</td>\n",
       "      <td>---</td>\n",
       "    </tr>\n",
       "    <tr>\n",
       "      <th>2</th>\n",
       "      <td>756.000000</td>\n",
       "      <td>703</td>\n",
       "      <td>0</td>\n",
       "      <td>---</td>\n",
       "    </tr>\n",
       "    <tr>\n",
       "      <th>3</th>\n",
       "      <td>756.000000</td>\n",
       "      <td>763</td>\n",
       "      <td>0</td>\n",
       "      <td>---</td>\n",
       "    </tr>\n",
       "    <tr>\n",
       "      <th>4</th>\n",
       "      <td>756.000000</td>\n",
       "      <td>823</td>\n",
       "      <td>0</td>\n",
       "      <td>---</td>\n",
       "    </tr>\n",
       "    <tr>\n",
       "      <th>5</th>\n",
       "      <td>756.000000</td>\n",
       "      <td>883</td>\n",
       "      <td>0</td>\n",
       "      <td>---</td>\n",
       "    </tr>\n",
       "  </tbody>\n",
       "</table>\n",
       "</div>"
      ],
      "text/plain": [
       "  Frequency (MHz)  Time of Day Occupancy (%) Field Strength (dBuV/m)\n",
       "1      756.000000          643             0                     ---\n",
       "2      756.000000          703             0                     ---\n",
       "3      756.000000          763             0                     ---\n",
       "4      756.000000          823             0                     ---\n",
       "5      756.000000          883             0                     ---"
      ]
     },
     "execution_count": 10,
     "metadata": {},
     "output_type": "execute_result"
    }
   ],
   "source": [
    "new_df.head()"
   ]
  },
  {
   "cell_type": "code",
   "execution_count": 11,
   "metadata": {},
   "outputs": [],
   "source": [
    "#convert type of columns\n",
    "new_df['Frequency (MHz)']=new_df['Frequency (MHz)'].astype(float)\n",
    "new_df['Occupancy (%)']=new_df['Occupancy (%)'].astype(int)"
   ]
  },
  {
   "cell_type": "code",
   "execution_count": 12,
   "metadata": {},
   "outputs": [
    {
     "data": {
      "text/plain": [
       "Frequency (MHz)            0\n",
       "Time of Day                0\n",
       "Occupancy (%)              0\n",
       "Field Strength (dBuV/m)    0\n",
       "dtype: int64"
      ]
     },
     "execution_count": 12,
     "metadata": {},
     "output_type": "execute_result"
    }
   ],
   "source": [
    "#check is there any null value or value is not a number\n",
    "new_df.isnull().sum()\n"
   ]
  },
  {
   "cell_type": "code",
   "execution_count": 13,
   "metadata": {},
   "outputs": [
    {
     "name": "stdout",
     "output_type": "stream",
     "text": [
      "<class 'pandas.core.frame.DataFrame'>\n",
      "RangeIndex: 16120 entries, 1 to 16120\n",
      "Data columns (total 4 columns):\n",
      " #   Column                   Non-Null Count  Dtype  \n",
      "---  ------                   --------------  -----  \n",
      " 0   Frequency (MHz)          16120 non-null  float64\n",
      " 1   Time of Day              16120 non-null  int64  \n",
      " 2   Occupancy (%)            16120 non-null  int64  \n",
      " 3   Field Strength (dBuV/m)  16120 non-null  object \n",
      "dtypes: float64(1), int64(2), object(1)\n",
      "memory usage: 503.9+ KB\n"
     ]
    }
   ],
   "source": [
    "new_df.info()"
   ]
  },
  {
   "cell_type": "code",
   "execution_count": 14,
   "metadata": {},
   "outputs": [],
   "source": [
    "#if column Field Strength (dBuV/m) is --- change to 0 \n",
    "new_df['Field Strength (dBuV/m)']=new_df['Field Strength (dBuV/m)'].apply(lambda x: 0 if x=='---' else x)\n"
   ]
  },
  {
   "cell_type": "code",
   "execution_count": 15,
   "metadata": {},
   "outputs": [],
   "source": [
    "#sum value of column Field Strength (dBuV/m) \n",
    "new_df['Field Strength (dBuV/m)']=new_df['Field Strength (dBuV/m)'].astype(int)\n"
   ]
  },
  {
   "cell_type": "code",
   "execution_count": 16,
   "metadata": {},
   "outputs": [
    {
     "data": {
      "text/html": [
       "<div>\n",
       "<style scoped>\n",
       "    .dataframe tbody tr th:only-of-type {\n",
       "        vertical-align: middle;\n",
       "    }\n",
       "\n",
       "    .dataframe tbody tr th {\n",
       "        vertical-align: top;\n",
       "    }\n",
       "\n",
       "    .dataframe thead th {\n",
       "        text-align: right;\n",
       "    }\n",
       "</style>\n",
       "<table border=\"1\" class=\"dataframe\">\n",
       "  <thead>\n",
       "    <tr style=\"text-align: right;\">\n",
       "      <th></th>\n",
       "      <th>Frequency (MHz)</th>\n",
       "      <th>Time of Day</th>\n",
       "      <th>Occupancy (%)</th>\n",
       "      <th>Field Strength (dBuV/m)</th>\n",
       "    </tr>\n",
       "  </thead>\n",
       "  <tbody>\n",
       "    <tr>\n",
       "      <th>count</th>\n",
       "      <td>16120.000000</td>\n",
       "      <td>16120.000000</td>\n",
       "      <td>16120.000000</td>\n",
       "      <td>16120.000000</td>\n",
       "    </tr>\n",
       "    <tr>\n",
       "      <th>mean</th>\n",
       "      <td>1722.900000</td>\n",
       "      <td>763.000000</td>\n",
       "      <td>2.317370</td>\n",
       "      <td>2.217928</td>\n",
       "    </tr>\n",
       "    <tr>\n",
       "      <th>std</th>\n",
       "      <td>558.430475</td>\n",
       "      <td>84.855446</td>\n",
       "      <td>14.932801</td>\n",
       "      <td>13.641942</td>\n",
       "    </tr>\n",
       "    <tr>\n",
       "      <th>min</th>\n",
       "      <td>756.000000</td>\n",
       "      <td>643.000000</td>\n",
       "      <td>0.000000</td>\n",
       "      <td>0.000000</td>\n",
       "    </tr>\n",
       "    <tr>\n",
       "      <th>25%</th>\n",
       "      <td>1239.450000</td>\n",
       "      <td>703.000000</td>\n",
       "      <td>0.000000</td>\n",
       "      <td>0.000000</td>\n",
       "    </tr>\n",
       "    <tr>\n",
       "      <th>50%</th>\n",
       "      <td>1722.900000</td>\n",
       "      <td>763.000000</td>\n",
       "      <td>0.000000</td>\n",
       "      <td>0.000000</td>\n",
       "    </tr>\n",
       "    <tr>\n",
       "      <th>75%</th>\n",
       "      <td>2206.350000</td>\n",
       "      <td>823.000000</td>\n",
       "      <td>0.000000</td>\n",
       "      <td>0.000000</td>\n",
       "    </tr>\n",
       "    <tr>\n",
       "      <th>max</th>\n",
       "      <td>2689.800000</td>\n",
       "      <td>883.000000</td>\n",
       "      <td>100.000000</td>\n",
       "      <td>94.000000</td>\n",
       "    </tr>\n",
       "  </tbody>\n",
       "</table>\n",
       "</div>"
      ],
      "text/plain": [
       "       Frequency (MHz)   Time of Day  Occupancy (%)  Field Strength (dBuV/m)\n",
       "count     16120.000000  16120.000000   16120.000000             16120.000000\n",
       "mean       1722.900000    763.000000       2.317370                 2.217928\n",
       "std         558.430475     84.855446      14.932801                13.641942\n",
       "min         756.000000    643.000000       0.000000                 0.000000\n",
       "25%        1239.450000    703.000000       0.000000                 0.000000\n",
       "50%        1722.900000    763.000000       0.000000                 0.000000\n",
       "75%        2206.350000    823.000000       0.000000                 0.000000\n",
       "max        2689.800000    883.000000     100.000000                94.000000"
      ]
     },
     "execution_count": 16,
     "metadata": {},
     "output_type": "execute_result"
    }
   ],
   "source": [
    "new_df.describe()"
   ]
  },
  {
   "cell_type": "code",
   "execution_count": 17,
   "metadata": {},
   "outputs": [],
   "source": [
    "#check duplicate value\n",
    "#new_df['Frequency (MHz)'].duplicated().sum()"
   ]
  },
  {
   "cell_type": "code",
   "execution_count": 18,
   "metadata": {},
   "outputs": [],
   "source": [
    "#filter data by occupancy >0\n",
    "#new_df=new_df[new_df['Occupancy (%)']>0]\n"
   ]
  },
  {
   "cell_type": "code",
   "execution_count": null,
   "metadata": {},
   "outputs": [],
   "source": []
  },
  {
   "cell_type": "code",
   "execution_count": 19,
   "metadata": {},
   "outputs": [],
   "source": [
    "#export csv \n",
    "new_df.to_csv('data/tod_imt_clean_1.csv',index=False)"
   ]
  },
  {
   "cell_type": "code",
   "execution_count": null,
   "metadata": {},
   "outputs": [],
   "source": []
  },
  {
   "cell_type": "code",
   "execution_count": null,
   "metadata": {},
   "outputs": [],
   "source": []
  }
 ],
 "metadata": {
  "kernelspec": {
   "display_name": "freq_predic",
   "language": "python",
   "name": "python3"
  },
  "language_info": {
   "codemirror_mode": {
    "name": "ipython",
    "version": 3
   },
   "file_extension": ".py",
   "mimetype": "text/x-python",
   "name": "python",
   "nbconvert_exporter": "python",
   "pygments_lexer": "ipython3",
   "version": "3.11.4"
  },
  "orig_nbformat": 4
 },
 "nbformat": 4,
 "nbformat_minor": 2
}

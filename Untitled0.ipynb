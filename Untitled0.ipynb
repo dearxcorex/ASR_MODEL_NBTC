{
  "nbformat": 4,
  "nbformat_minor": 0,
  "metadata": {
    "colab": {
      "provenance": [],
      "authorship_tag": "ABX9TyNJ9463DclC4JjTMk2M7BkS",
      "include_colab_link": true
    },
    "kernelspec": {
      "name": "python3",
      "display_name": "Python 3"
    },
    "language_info": {
      "name": "python"
    }
  },
  "cells": [
    {
      "cell_type": "markdown",
      "metadata": {
        "id": "view-in-github",
        "colab_type": "text"
      },
      "source": [
        "<a href=\"https://colab.research.google.com/github/dearxcorex/ASR_MODEL_NBTC/blob/main/Untitled0.ipynb\" target=\"_parent\"><img src=\"https://colab.research.google.com/assets/colab-badge.svg\" alt=\"Open In Colab\"/></a>"
      ]
    },
    {
      "cell_type": "code",
      "execution_count": 1,
      "metadata": {
        "colab": {
          "base_uri": "https://localhost:8080/"
        },
        "id": "KN4_HCHhBC0G",
        "outputId": "1975c649-3a7a-4dbf-a47a-ba6cf45b8658"
      },
      "outputs": [
        {
          "output_type": "stream",
          "name": "stdout",
          "text": [
            "Mounted at /content/drive\n"
          ]
        }
      ],
      "source": [
        "from google.colab import drive\n",
        "drive.mount('/content/drive')"
      ]
    },
    {
      "cell_type": "code",
      "source": [
        "%cd /content/drive/MyDrive/Colab Notebooks/ASR_MODEL/text_classification"
      ],
      "metadata": {
        "colab": {
          "base_uri": "https://localhost:8080/"
        },
        "id": "B3mIfGa9BEe6",
        "outputId": "85313d19-48e7-4595-f2ad-354056c0afe5"
      },
      "execution_count": 2,
      "outputs": [
        {
          "output_type": "stream",
          "name": "stdout",
          "text": [
            "/content/drive/MyDrive/Colab Notebooks/ASR_MODEL/text_classification\n"
          ]
        }
      ]
    },
    {
      "cell_type": "code",
      "source": [
        "! apt-get install git"
      ],
      "metadata": {
        "colab": {
          "base_uri": "https://localhost:8080/"
        },
        "id": "heH9qQvjBk9c",
        "outputId": "353a7f5c-62fa-45f7-fb5f-5e828eeb3aeb"
      },
      "execution_count": 3,
      "outputs": [
        {
          "output_type": "stream",
          "name": "stdout",
          "text": [
            "Reading package lists... Done\n",
            "Building dependency tree... Done\n",
            "Reading state information... Done\n",
            "git is already the newest version (1:2.34.1-1ubuntu1.10).\n",
            "0 upgraded, 0 newly installed, 0 to remove and 32 not upgraded.\n"
          ]
        }
      ]
    },
    {
      "cell_type": "code",
      "source": [
        "!git clone https://github.com/dearxcorex/ASR_MODEL_NBTC.git"
      ],
      "metadata": {
        "colab": {
          "base_uri": "https://localhost:8080/"
        },
        "id": "g2mZsyXbBpCk",
        "outputId": "2cd7960a-fe1d-4ac0-95ab-81fd69e947c0"
      },
      "execution_count": 4,
      "outputs": [
        {
          "output_type": "stream",
          "name": "stdout",
          "text": [
            "Cloning into 'ASR_MODEL_NBTC'...\n",
            "remote: Enumerating objects: 165, done.\u001b[K\n",
            "remote: Counting objects: 100% (127/127), done.\u001b[K\n",
            "remote: Compressing objects: 100% (89/89), done.\u001b[K\n",
            "remote: Total 165 (delta 37), reused 113 (delta 31), pack-reused 38\u001b[K\n",
            "Receiving objects: 100% (165/165), 129.10 MiB | 13.68 MiB/s, done.\n",
            "Resolving deltas: 100% (46/46), done.\n",
            "warning: remote HEAD refers to nonexistent ref, unable to checkout.\n",
            "\n"
          ]
        }
      ]
    },
    {
      "cell_type": "code",
      "source": [
        "!ls\n",
        "%cd ASR_MODEL_NBTC\n",
        "!ls\n",
        "%cd ASR_MODEL_NBTC"
      ],
      "metadata": {
        "colab": {
          "base_uri": "https://localhost:8080/"
        },
        "id": "fMk-naKJByAt",
        "outputId": "dca1ef0d-e1b3-4f63-8146-8e39469764b6"
      },
      "execution_count": 6,
      "outputs": [
        {
          "output_type": "stream",
          "name": "stdout",
          "text": [
            "[Errno 2] No such file or directory: 'ASR_MODEL_NBTC'\n",
            "/content/drive/MyDrive/Colab Notebooks/ASR_MODEL/text_classification/ASR_MODEL_NBTC\n",
            "[Errno 2] No such file or directory: 'ASR_MODEL_NBTC'\n",
            "/content/drive/MyDrive/Colab Notebooks/ASR_MODEL/text_classification/ASR_MODEL_NBTC\n"
          ]
        }
      ]
    },
    {
      "cell_type": "code",
      "source": [],
      "metadata": {
        "id": "kfYGBBSRCCZk"
      },
      "execution_count": null,
      "outputs": []
    }
  ]
}